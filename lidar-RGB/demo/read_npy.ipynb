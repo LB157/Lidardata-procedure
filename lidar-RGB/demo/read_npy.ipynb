{
 "cells": [
  {
   "cell_type": "code",
   "execution_count": 2,
   "metadata": {},
   "outputs": [
    {
     "name": "stdout",
     "output_type": "stream",
     "text": [
      "[[ 37.37334824  39.75792313   5.31145716 ... 108.         144.\n",
      "  127.        ]\n",
      " [ 31.49968719  33.5094986    3.50808096 ...  74.         127.\n",
      "  111.        ]\n",
      " [ 31.35713959  33.35785675   3.17151856 ...  67.          86.\n",
      "   76.        ]\n",
      " ...\n",
      " [  5.12753153  -4.95672321  -1.2933768  ... 135.         136.\n",
      "  140.        ]\n",
      " [  4.77859402  -4.63558292  -1.30348182 ... 110.         121.\n",
      "  128.        ]\n",
      " [  4.44479752  -4.31177616  -1.30228484 ... 112.         117.\n",
      "  130.        ]]\n"
     ]
    }
   ],
   "source": [
    "import numpy as np\n",
    "\n",
    "res = np.load(\"/home/liubo/personal/project/lidar-RGB/Savedata/lidar_rgb_0.npy\")\n",
    "print(res)\n"
   ]
  },
  {
   "cell_type": "code",
   "execution_count": null,
   "metadata": {},
   "outputs": [],
   "source": []
  }
 ],
 "metadata": {
  "kernelspec": {
   "display_name": "Python 3.8.13 ('lidar_rgb')",
   "language": "python",
   "name": "python3"
  },
  "language_info": {
   "codemirror_mode": {
    "name": "ipython",
    "version": 3
   },
   "file_extension": ".py",
   "mimetype": "text/x-python",
   "name": "python",
   "nbconvert_exporter": "python",
   "pygments_lexer": "ipython3",
   "version": "3.8.13"
  },
  "orig_nbformat": 4,
  "vscode": {
   "interpreter": {
    "hash": "5f97b233279143dada8d2823be4a320ca6b91cc930722cd364699c161ef2fcee"
   }
  }
 },
 "nbformat": 4,
 "nbformat_minor": 2
}
